{
 "cells": [
  {
   "cell_type": "code",
   "execution_count": null,
   "metadata": {},
   "outputs": [],
   "source": [
    "import numpy as np\n",
    "import os\n",
    "import scipy.io\n",
    "import cv2\n",
    "import matplotlib.pyplot as plt"
   ]
  },
  {
   "cell_type": "code",
   "execution_count": null,
   "metadata": {},
   "outputs": [],
   "source": [
    "# File paths\n",
    "mat_file_path = \"/Users/keshavsaraogi/data/pose/joints.mat\"\n",
    "image_folder = \"/Users/keshavsaraogi/data/pose/images/\""
   ]
  },
  {
   "cell_type": "code",
   "execution_count": null,
   "metadata": {},
   "outputs": [],
   "source": [
    "# Load joint data\n",
    "data = scipy.io.loadmat(mat_file_path)\n",
    "joints = data[\"joints\"]  # Shape: (3, 14, 2000) -> (x, y, visibility)\n",
    "num_images = joints.shape[2]"
   ]
  },
  {
   "cell_type": "code",
   "execution_count": null,
   "metadata": {},
   "outputs": [],
   "source": [
    "# Normalize keypoints\n",
    "def normalize_keypoints(joints, img_shape):\n",
    "    \"\"\"\n",
    "    Normalize (x, y) coordinates to range [0,1] based on image dimensions.\n",
    "    Replace missing keypoints with (-1, -1).\n",
    "    \"\"\"\n",
    "    height, width = img_shape\n",
    "    normalized_joints = np.zeros((2, 14, num_images))  # Store normalized keypoints\n",
    "\n",
    "    for img_index in range(num_images):\n",
    "        for i in range(14):  # Iterate over 14 joints\n",
    "            x, y, v = joints[:, i, img_index]\n",
    "            \n",
    "            if v == 1:  # If joint is visible, normalize it\n",
    "                normalized_joints[:, i, img_index] = [x / width, y / height]\n",
    "            else:  # If joint is missing, assign (-1, -1)\n",
    "                normalized_joints[:, i, img_index] = [-1, -1]\n",
    "\n",
    "    return normalized_joints"
   ]
  },
  {
   "cell_type": "code",
   "execution_count": null,
   "metadata": {},
   "outputs": [],
   "source": [
    "# Normalize all keypoints (assuming first image size is representative)\n",
    "sample_img = cv2.imread(os.path.join(image_folder, \"im0001.jpg\"))\n",
    "image_shape = sample_img.shape[:2]  # Get (height, width)\n",
    "normalized_joints = normalize_keypoints(joints, image_shape)\n",
    "\n",
    "print(\"Keypoints normalized and missing values replaced with (-1, -1).\")"
   ]
  }
 ],
 "metadata": {
  "kernelspec": {
   "display_name": "base",
   "language": "python",
   "name": "python3"
  },
  "language_info": {
   "codemirror_mode": {
    "name": "ipython",
    "version": 3
   },
   "file_extension": ".py",
   "mimetype": "text/x-python",
   "name": "python",
   "nbconvert_exporter": "python",
   "pygments_lexer": "ipython3",
   "version": "3.11.8"
  }
 },
 "nbformat": 4,
 "nbformat_minor": 2
}

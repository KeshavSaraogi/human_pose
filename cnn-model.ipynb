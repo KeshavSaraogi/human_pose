{
 "cells": [
  {
   "cell_type": "code",
   "execution_count": null,
   "metadata": {},
   "outputs": [],
   "source": [
    "import tensorflow as tf\n",
    "from tensorflow import keras\n",
    "from tensorflow.keras import layers\n",
    "import numpy as np\n",
    "import os\n",
    "import cv2\n",
    "import scipy.io\n",
    "import matplotlib.pyplot as plt\n",
    "from sklearn.model_selection import train_test_split"
   ]
  },
  {
   "cell_type": "code",
   "execution_count": null,
   "metadata": {},
   "outputs": [],
   "source": [
    "# File paths\n",
    "mat_file_path = \"/Users/keshavsaraogi/data/pose/joints.mat\"\n",
    "image_folder = \"/Users/keshavsaraogi/data/pose/images/\""
   ]
  },
  {
   "cell_type": "code",
   "execution_count": null,
   "metadata": {},
   "outputs": [],
   "source": [
    "# Load joint data\n",
    "data = scipy.io.loadmat(mat_file_path)\n",
    "joints = data[\"joints\"]  # Shape: (3, 14, 2000)"
   ]
  },
  {
   "cell_type": "code",
   "execution_count": null,
   "metadata": {},
   "outputs": [],
   "source": [
    "# Preprocess images\n",
    "IMG_SIZE = 128  # Resize images to 128x128\n",
    "num_images = joints.shape[2]"
   ]
  },
  {
   "cell_type": "code",
   "execution_count": null,
   "metadata": {},
   "outputs": [],
   "source": [
    "X = []\n",
    "y = []\n",
    "\n",
    "for img_index in range(num_images):\n",
    "    img_path = os.path.join(image_folder, f\"im{img_index+1:04d}.jpg\")\n",
    "    \n",
    "    # Read image\n",
    "    img = cv2.imread(img_path)\n",
    "    if img is None:\n",
    "        continue  # Skip missing images\n",
    "\n",
    "    # Resize and normalize image\n",
    "    img = cv2.resize(img, (IMG_SIZE, IMG_SIZE))\n",
    "    img = img / 255.0  # Normalize\n",
    "\n",
    "    # Get keypoints & normalize to [0,1]\n",
    "    keypoints = joints[:, :, img_index][:2, :]  # Extract (x, y)\n",
    "    keypoints = keypoints.flatten()  # Convert to (28,) vector\n",
    "\n",
    "    X.append(img)\n",
    "    y.append(keypoints)\n"
   ]
  },
  {
   "cell_type": "code",
   "execution_count": null,
   "metadata": {},
   "outputs": [],
   "source": [
    "# Convert to NumPy arrays\n",
    "X = np.array(X, dtype=np.float32)\n",
    "y = np.array(y, dtype=np.float32)"
   ]
  },
  {
   "cell_type": "code",
   "execution_count": null,
   "metadata": {},
   "outputs": [],
   "source": [
    "# Train-test split (80-20)\n",
    "X_train, X_test, y_train, y_test = train_test_split(X, y, test_size=0.2, random_state=42)\n",
    "\n",
    "print(f\"Training samples: {X_train.shape[0]}, Testing samples: {X_test.shape[0]}\")"
   ]
  },
  {
   "cell_type": "code",
   "execution_count": null,
   "metadata": {},
   "outputs": [],
   "source": [
    "# Build Simple CNN Model\n",
    "def create_simple_cnn():\n",
    "    model = keras.Sequential([\n",
    "        layers.Conv2D(32, (3, 3), activation=\"relu\", input_shape=(IMG_SIZE, IMG_SIZE, 3)),\n",
    "        layers.MaxPooling2D(2, 2),\n",
    "        layers.Conv2D(64, (3, 3), activation=\"relu\"),\n",
    "        layers.MaxPooling2D(2, 2),\n",
    "        layers.Conv2D(128, (3, 3), activation=\"relu\"),\n",
    "        layers.MaxPooling2D(2, 2),\n",
    "        layers.Flatten(),\n",
    "        layers.Dense(512, activation=\"relu\"),\n",
    "        layers.Dense(28, activation=\"linear\")  # 14 keypoints (x,y) -> 28 values\n",
    "    ])\n",
    "    \n",
    "    model.compile(optimizer=\"adam\", loss=\"mse\", metrics=[\"mae\"])\n",
    "    return model\n"
   ]
  },
  {
   "cell_type": "code",
   "execution_count": null,
   "metadata": {},
   "outputs": [],
   "source": [
    "# Create and Train Model\n",
    "model = create_simple_cnn()\n",
    "model.summary()"
   ]
  },
  {
   "cell_type": "code",
   "execution_count": null,
   "metadata": {},
   "outputs": [],
   "source": [
    "# Train\n",
    "history = model.fit(X_train, y_train, epochs=15, batch_size=32, validation_data=(X_test, y_test))"
   ]
  },
  {
   "cell_type": "code",
   "execution_count": null,
   "metadata": {},
   "outputs": [],
   "source": [
    "# Save model\n",
    "model.save(\"simple_cnn_pose.keras\")\n",
    "print(\"Training complete. Model saved as 'simple_cnn_pose.keras'.\")"
   ]
  },
  {
   "cell_type": "markdown",
   "metadata": {},
   "source": [
    "## CUSTOM MADE CNN "
   ]
  },
  {
   "cell_type": "code",
   "execution_count": null,
   "metadata": {},
   "outputs": [],
   "source": [
    "import tensorflow as tf\n",
    "from tensorflow.keras.models import Sequential\n",
    "from tensorflow.keras.layers import Conv2D, MaxPooling2D, Flatten, Dense, Dropout, BatchNormalization\n",
    "from tensorflow.keras.optimizers import Adam\n",
    "\n",
    "def create_custom_cnn(input_shape=(128, 128, 3), num_keypoints=28):\n",
    "    model = Sequential([\n",
    "        # Block 1\n",
    "        Conv2D(32, (3, 3), activation='relu', padding='same', input_shape=input_shape),\n",
    "        BatchNormalization(),\n",
    "        MaxPooling2D(2, 2),\n",
    "\n",
    "        # Block 2\n",
    "        Conv2D(64, (3, 3), activation='relu', padding='same'),\n",
    "        BatchNormalization(),\n",
    "        MaxPooling2D(2, 2),\n",
    "        \n",
    "        # Block 3\n",
    "        Conv2D(128, (3, 3), activation='relu', padding='same'),\n",
    "        BatchNormalization(),\n",
    "        MaxPooling2D(2, 2),\n",
    "        \n",
    "        # Block 4\n",
    "        Conv2D(256, (3, 3), activation='relu', padding='same'),\n",
    "        BatchNormalization(),\n",
    "        MaxPooling2D(2, 2),\n",
    "\n",
    "        # Flatten layer\n",
    "        Flatten(),\n",
    "        \n",
    "        # Print shape after Flattening\n",
    "        Dense(1024, activation='relu'),  # Fixing dense input shape mismatch\n",
    "        Dropout(0.5),\n",
    "        \n",
    "        # Output layer (14 keypoints * 2 coordinates each)\n",
    "        Dense(num_keypoints, activation='linear')\n",
    "    ])\n",
    "\n",
    "    model.compile(optimizer=Adam(learning_rate=0.001),\n",
    "                  loss='mse',\n",
    "                  metrics=['mae'])\n",
    "\n",
    "    return model\n",
    "\n",
    "# Initialize model\n",
    "custom_cnn_model = create_custom_cnn()\n",
    "\n",
    "# Print summary to verify\n",
    "custom_cnn_model.summary()\n"
   ]
  },
  {
   "cell_type": "code",
   "execution_count": null,
   "metadata": {},
   "outputs": [],
   "source": [
    "# Initialize model\n",
    "custom_cnn_model = create_custom_cnn()\n",
    "\n",
    "# Print summary\n",
    "custom_cnn_model.summary()"
   ]
  },
  {
   "cell_type": "code",
   "execution_count": null,
   "metadata": {},
   "outputs": [],
   "source": [
    "# Train the custom model\n",
    "history = custom_cnn_model.fit(\n",
    "    X_train, y_train, \n",
    "    epochs=25,  # Increase epochs for better performance\n",
    "    batch_size=32, \n",
    "    validation_data=(X_test, y_test)\n",
    ")\n",
    "\n",
    "# Save the model\n",
    "custom_cnn_model.save(\"custom_cnn_pose.h5\")\n",
    "print(\"Training complete. Model saved as 'custom_cnn_pose.h5'.\")"
   ]
  }
 ],
 "metadata": {
  "kernelspec": {
   "display_name": "base",
   "language": "python",
   "name": "python3"
  },
  "language_info": {
   "codemirror_mode": {
    "name": "ipython",
    "version": 3
   },
   "file_extension": ".py",
   "mimetype": "text/x-python",
   "name": "python",
   "nbconvert_exporter": "python",
   "pygments_lexer": "ipython3",
   "version": "3.11.8"
  }
 },
 "nbformat": 4,
 "nbformat_minor": 2
}

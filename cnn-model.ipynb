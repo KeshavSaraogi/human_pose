{
 "cells": [
  {
   "cell_type": "code",
   "execution_count": null,
   "metadata": {},
   "outputs": [],
   "source": [
    "import tensorflow as tf\n",
    "from tensorflow import keras\n",
    "from tensorflow.keras import layers\n",
    "import numpy as np\n",
    "import os\n",
    "import cv2\n",
    "import scipy.io\n",
    "import matplotlib.pyplot as plt\n",
    "from sklearn.model_selection import train_test_split"
   ]
  },
  {
   "cell_type": "code",
   "execution_count": null,
   "metadata": {},
   "outputs": [],
   "source": [
    "# File paths\n",
    "mat_file_path = \"/Users/keshavsaraogi/data/pose/joints.mat\"\n",
    "image_folder = \"/Users/keshavsaraogi/data/pose/images/\""
   ]
  },
  {
   "cell_type": "code",
   "execution_count": null,
   "metadata": {},
   "outputs": [],
   "source": [
    "# Load joint data\n",
    "data = scipy.io.loadmat(mat_file_path)\n",
    "joints = data[\"joints\"]  # Shape: (3, 14, 2000)"
   ]
  },
  {
   "cell_type": "code",
   "execution_count": null,
   "metadata": {},
   "outputs": [],
   "source": [
    "# Preprocess images\n",
    "IMG_SIZE = 128  # Resize images to 128x128\n",
    "num_images = joints.shape[2]"
   ]
  },
  {
   "cell_type": "code",
   "execution_count": null,
   "metadata": {},
   "outputs": [],
   "source": [
    "X = []\n",
    "y = []\n",
    "\n",
    "for img_index in range(num_images):\n",
    "    img_path = os.path.join(image_folder, f\"im{img_index+1:04d}.jpg\")\n",
    "    \n",
    "    # Read image\n",
    "    img = cv2.imread(img_path)\n",
    "    if img is None:\n",
    "        continue  # Skip missing images\n",
    "\n",
    "    # Resize and normalize image\n",
    "    img = cv2.resize(img, (IMG_SIZE, IMG_SIZE))\n",
    "    img = img / 255.0  # Normalize\n",
    "\n",
    "    # Get keypoints & normalize to [0,1]\n",
    "    keypoints = joints[:, :, img_index][:2, :]  # Extract (x, y)\n",
    "    keypoints = keypoints.flatten()  # Convert to (28,) vector\n",
    "\n",
    "    X.append(img)\n",
    "    y.append(keypoints)\n"
   ]
  },
  {
   "cell_type": "code",
   "execution_count": null,
   "metadata": {},
   "outputs": [],
   "source": [
    "# Convert to NumPy arrays\n",
    "X = np.array(X, dtype=np.float32)\n",
    "y = np.array(y, dtype=np.float32)"
   ]
  },
  {
   "cell_type": "code",
   "execution_count": null,
   "metadata": {},
   "outputs": [],
   "source": [
    "# Train-test split (80-20)\n",
    "X_train, X_test, y_train, y_test = train_test_split(X, y, test_size=0.2, random_state=42)\n",
    "\n",
    "print(f\"Training samples: {X_train.shape[0]}, Testing samples: {X_test.shape[0]}\")"
   ]
  },
  {
   "cell_type": "code",
   "execution_count": null,
   "metadata": {},
   "outputs": [],
   "source": [
    "# Build Simple CNN Model\n",
    "def create_simple_cnn():\n",
    "    model = keras.Sequential([\n",
    "        layers.Conv2D(32, (3, 3), activation=\"relu\", input_shape=(IMG_SIZE, IMG_SIZE, 3)),\n",
    "        layers.MaxPooling2D(2, 2),\n",
    "        layers.Conv2D(64, (3, 3), activation=\"relu\"),\n",
    "        layers.MaxPooling2D(2, 2),\n",
    "        layers.Conv2D(128, (3, 3), activation=\"relu\"),\n",
    "        layers.MaxPooling2D(2, 2),\n",
    "        layers.Flatten(),\n",
    "        layers.Dense(512, activation=\"relu\"),\n",
    "        layers.Dense(28, activation=\"linear\")  # 14 keypoints (x,y) -> 28 values\n",
    "    ])\n",
    "    \n",
    "    model.compile(optimizer=\"adam\", loss=\"mse\", metrics=[\"mae\"])\n",
    "    return model\n"
   ]
  },
  {
   "cell_type": "code",
   "execution_count": null,
   "metadata": {},
   "outputs": [],
   "source": [
    "# Create and Train Model\n",
    "model = create_simple_cnn()\n",
    "model.summary()"
   ]
  },
  {
   "cell_type": "code",
   "execution_count": null,
   "metadata": {},
   "outputs": [],
   "source": [
    "# Train\n",
    "history = model.fit(X_train, y_train, epochs=15, batch_size=32, validation_data=(X_test, y_test))"
   ]
  },
  {
   "cell_type": "code",
   "execution_count": null,
   "metadata": {},
   "outputs": [],
   "source": [
    "# Save model\n",
    "model.save(\"simple_cnn_pose.keras\")\n",
    "print(\"Training complete. Model saved as 'simple_cnn_pose.keras'.\")"
   ]
  },
  {
   "cell_type": "markdown",
   "metadata": {},
   "source": [
    "## CUSTOM MADE CNN "
   ]
  },
  {
   "cell_type": "code",
   "execution_count": null,
   "metadata": {},
   "outputs": [],
   "source": [
    "import tensorflow as tf\n",
    "from tensorflow.keras.models import Sequential\n",
    "from tensorflow.keras.layers import Conv2D, MaxPooling2D, Flatten, Dense, Dropout, BatchNormalization\n",
    "from tensorflow.keras.optimizers import Adam\n",
    "\n",
    "def create_custom_cnn(input_shape=(128, 128, 3), num_keypoints=28):\n",
    "    model = Sequential([\n",
    "        # Block 1\n",
    "        Conv2D(32, (3, 3), activation='relu', padding='same', input_shape=input_shape),\n",
    "        BatchNormalization(),\n",
    "        MaxPooling2D(2, 2),\n",
    "\n",
    "        # Block 2\n",
    "        Conv2D(64, (3, 3), activation='relu', padding='same'),\n",
    "        BatchNormalization(),\n",
    "        MaxPooling2D(2, 2),\n",
    "        \n",
    "        # Block 3\n",
    "        Conv2D(128, (3, 3), activation='relu', padding='same'),\n",
    "        BatchNormalization(),\n",
    "        MaxPooling2D(2, 2),\n",
    "        \n",
    "        # Block 4\n",
    "        Conv2D(256, (3, 3), activation='relu', padding='same'),\n",
    "        BatchNormalization(),\n",
    "        MaxPooling2D(2, 2),\n",
    "\n",
    "        # Flatten layer\n",
    "        Flatten(),\n",
    "        \n",
    "        # Print shape after Flattening\n",
    "        Dense(1024, activation='relu'),  # Fixing dense input shape mismatch\n",
    "        Dropout(0.5),\n",
    "        \n",
    "        # Output layer (14 keypoints * 2 coordinates each)\n",
    "        Dense(num_keypoints, activation='linear')\n",
    "    ])\n",
    "\n",
    "    model.compile(optimizer=Adam(learning_rate=0.001),\n",
    "                  loss='mse',\n",
    "                  metrics=['mae'])\n",
    "\n",
    "    return model\n",
    "\n",
    "# Initialize model\n",
    "custom_cnn_model = create_custom_cnn()\n",
    "\n",
    "# Print summary to verify\n",
    "custom_cnn_model.summary()\n"
   ]
  },
  {
   "cell_type": "code",
   "execution_count": null,
   "metadata": {},
   "outputs": [],
   "source": [
    "# Initialize model\n",
    "custom_cnn_model = create_custom_cnn()\n",
    "\n",
    "# Print summary\n",
    "custom_cnn_model.summary()"
   ]
  },
  {
   "cell_type": "code",
   "execution_count": null,
   "metadata": {},
   "outputs": [],
   "source": [
    "# Train the custom model\n",
    "history = custom_cnn_model.fit(\n",
    "    X_train, y_train, \n",
    "    epochs=25,  # Increase epochs for better performance\n",
    "    batch_size=32, \n",
    "    validation_data=(X_test, y_test)\n",
    ")\n",
    "\n",
    "# Save the model\n",
    "custom_cnn_model.save(\"custom_cnn_pose.h5\")\n",
    "print(\"Training complete. Model saved as 'custom_cnn_pose.h5'.\")"
   ]
  },
  {
   "cell_type": "markdown",
   "metadata": {},
   "source": [
    "## HEATMAP REGRESSION"
   ]
  },
  {
   "cell_type": "code",
   "execution_count": null,
   "metadata": {},
   "outputs": [],
   "source": [
    "pip install --upgrade typing_extensions"
   ]
  },
  {
   "cell_type": "code",
   "execution_count": null,
   "metadata": {},
   "outputs": [],
   "source": [
    "import os\n",
    "import numpy as np\n",
    "import cv2\n",
    "import tensorflow as tf\n",
    "from tensorflow.keras import layers, models\n",
    "import matplotlib.pyplot as plt\n",
    "import albumentations as A\n",
    "import scipy.io"
   ]
  },
  {
   "cell_type": "code",
   "execution_count": null,
   "metadata": {},
   "outputs": [],
   "source": [
    "IMG_SIZE = 128\n",
    "HEATMAP_SIZE = 32\n",
    "NUM_JOINTS = 14\n",
    "SIGMA = 2"
   ]
  },
  {
   "cell_type": "code",
   "execution_count": null,
   "metadata": {},
   "outputs": [],
   "source": [
    "augment = A.Compose([\n",
    "    A.HorizontalFlip(p=0.5),\n",
    "    A.ShiftScaleRotate(shift_limit=0.1, scale_limit=0.1, rotate_limit=30, p=0.7),\n",
    "    A.RandomBrightnessContrast(p=0.2),\n",
    "    A.GaussianBlur(p=0.1)\n",
    "])"
   ]
  },
  {
   "cell_type": "code",
   "execution_count": null,
   "metadata": {},
   "outputs": [],
   "source": [
    "joints_data = scipy.io.loadmat(\"/Users/keshavsaraogi/data/pose/joints.mat\")\n",
    "joints = joints_data[\"joints\"]\n",
    "joints = np.transpose(joints, (2, 1, 0))"
   ]
  },
  {
   "cell_type": "code",
   "execution_count": null,
   "metadata": {},
   "outputs": [],
   "source": [
    "IMAGE_DIR = \"/Users/keshavsaraogi/data/pose/images\"\n",
    "image_files = sorted(os.listdir(IMAGE_DIR))\n",
    "image_paths = [os.path.join(IMAGE_DIR, f) for f in image_files if f.endswith('.jpg')]"
   ]
  },
  {
   "cell_type": "code",
   "execution_count": null,
   "metadata": {},
   "outputs": [],
   "source": [
    "def generate_heatmap(joints, img_size=IMG_SIZE, heatmap_size=HEATMAP_SIZE, sigma=SIGMA):\n",
    "    \"\"\" Generates heatmaps with 32x32 resolution. \"\"\"\n",
    "    heatmaps = np.zeros((heatmap_size, heatmap_size, NUM_JOINTS), dtype=np.float32)\n",
    "\n",
    "    for i, joint in enumerate(joints):\n",
    "        x, y, _ = joint\n",
    "        if x < 0 or y < 0:\n",
    "            continue\n",
    "        \n",
    "        x = int((x / img_size) * heatmap_size)\n",
    "        y = int((y / img_size) * heatmap_size)\n",
    "\n",
    "        for xi in range(max(0, x - 3 * sigma), min(heatmap_size, x + 3 * sigma)):\n",
    "            for yi in range(max(0, y - 3 * sigma), min(heatmap_size, y + 3 * sigma)):\n",
    "                heatmaps[yi, xi, i] = np.exp(-((xi - x) ** 2 + (yi - y) ** 2) / (2 * sigma ** 2))\n",
    "\n",
    "    return heatmaps"
   ]
  },
  {
   "cell_type": "code",
   "execution_count": null,
   "metadata": {},
   "outputs": [],
   "source": [
    "import cv2\n",
    "import numpy as np\n",
    "\n",
    "X_data = []\n",
    "Y_data = []\n",
    "\n",
    "for i, img_path in enumerate(image_paths):\n",
    "    # Load and preprocess image\n",
    "    img = cv2.imread(img_path)\n",
    "    img = cv2.cvtColor(img, cv2.COLOR_BGR2RGB)\n",
    "    img = cv2.resize(img, (IMG_SIZE, IMG_SIZE))\n",
    "    img = img / 255.0  # Normalize pixel values\n",
    "\n",
    "    # 🔹 Ensure proper format for augmentation\n",
    "    augmented = augment(image=img)\n",
    "    img = augmented['image']\n",
    "\n",
    "    # 🔹 Ensure correct shape for heatmap (32x32x14)\n",
    "    heatmap = generate_heatmap(joints[i], img_size=IMG_SIZE, heatmap_size=HEATMAP_SIZE, sigma=2)\n",
    "\n",
    "    # Append processed data\n",
    "    X_data.append(img)\n",
    "    Y_data.append(heatmap)\n",
    "\n",
    "# Convert lists to NumPy arrays\n",
    "X_data = np.array(X_data, dtype=np.float32)  # Shape: (num_samples, 128, 128, 3)\n",
    "Y_data = np.array(Y_data, dtype=np.float32)  # Shape: (num_samples, 32, 32, 14)\n",
    "\n",
    "# Verify dataset dimensions\n",
    "print(f\"X_data shape: {X_data.shape}\")\n",
    "print(f\"Y_data shape: {Y_data.shape}\")\n"
   ]
  },
  {
   "cell_type": "code",
   "execution_count": null,
   "metadata": {},
   "outputs": [],
   "source": [
    "split_idx = int(0.8 * len(X_data))\n",
    "X_train, X_test = X_data[:split_idx], X_data[split_idx:]\n",
    "Y_train, Y_test = Y_data[:split_idx], Y_data[split_idx:]"
   ]
  },
  {
   "cell_type": "code",
   "execution_count": null,
   "metadata": {},
   "outputs": [],
   "source": [
    "print(\"Dataset shapes:\")\n",
    "print(\"X_train:\", X_train.shape, \"Y_train:\", Y_train.shape)\n",
    "print(\"X_test:\", X_test.shape, \"Y_test:\", Y_test.shape)"
   ]
  },
  {
   "cell_type": "code",
   "execution_count": null,
   "metadata": {},
   "outputs": [],
   "source": [
    "def build_heatmap_model():\n",
    "    inputs = layers.Input(shape=(128, 128, 3))\n",
    "\n",
    "    x = layers.Conv2D(64, (3, 3), activation='relu', padding='same')(inputs)\n",
    "    x = layers.MaxPooling2D((2, 2))(x)\n",
    "    x = layers.Conv2D(128, (3, 3), activation='relu', padding='same')(x)\n",
    "    x = layers.MaxPooling2D((2, 2))(x)\n",
    "    x = layers.Conv2D(256, (3, 3), activation='relu', padding='same')(x)\n",
    "    x = layers.MaxPooling2D((2, 2))(x)\n",
    "    \n",
    "    x = layers.Conv2D(512, (3, 3), activation='relu', padding='same')(x)\n",
    "    \n",
    "    x = layers.Conv2DTranspose(256, (3, 3), strides=2, activation='relu', padding='same')(x)\n",
    "    x = layers.Conv2DTranspose(128, (3, 3), activation='relu', padding='same')(x)\n",
    "    x = layers.Conv2DTranspose(64, (3, 3), activation='relu', padding='same')(x)\n",
    "    x = layers.Conv2D(NUM_JOINTS, (1, 1), activation='sigmoid', padding='same')(x)\n",
    "    model = models.Model(inputs, x)\n",
    "    model.compile(optimizer=tf.keras.optimizers.Adam(learning_rate=0.0001), loss='mse', metrics=['mae'])\n",
    "    \n",
    "    return model"
   ]
  },
  {
   "cell_type": "code",
   "execution_count": null,
   "metadata": {},
   "outputs": [],
   "source": [
    "model = build_heatmap_model()\n",
    "model.summary()\n",
    "\n",
    "history = model.fit(\n",
    "    X_train, Y_train,\n",
    "    epochs=25,\n",
    "    batch_size=32,\n",
    "    validation_data=(X_test, Y_test)\n",
    ")"
   ]
  },
  {
   "cell_type": "code",
   "execution_count": null,
   "metadata": {},
   "outputs": [],
   "source": [
    "# ✅ Save the Model\n",
    "model.save(\"heatmap_pose_model.keras\")\n",
    "print(\"✅ Training complete. Model saved as 'heatmap_pose_model.keras'.\")\n"
   ]
  },
  {
   "cell_type": "code",
   "execution_count": null,
   "metadata": {},
   "outputs": [],
   "source": [
    "# ✅ Plot Training Loss & MAE\n",
    "plt.figure(figsize=(12, 5))\n",
    "plt.subplot(1, 2, 1)\n",
    "plt.plot(history.history['loss'], label='Training Loss')\n",
    "plt.plot(history.history['val_loss'], label='Validation Loss')\n",
    "plt.xlabel(\"Epochs\")\n",
    "plt.ylabel(\"Loss (MSE)\")\n",
    "plt.legend()\n",
    "plt.title(\"Loss Curve\")\n",
    "\n",
    "plt.subplot(1, 2, 2)\n",
    "plt.plot(history.history['mae'], label='Training MAE')\n",
    "plt.plot(history.history['val_mae'], label='Validation MAE')\n",
    "plt.xlabel(\"Epochs\")\n",
    "plt.ylabel(\"Mean Absolute Error\")\n",
    "plt.legend()\n",
    "plt.title(\"MAE Curve\")\n",
    "\n",
    "plt.show()"
   ]
  }
 ],
 "metadata": {
  "kernelspec": {
   "display_name": "base",
   "language": "python",
   "name": "python3"
  },
  "language_info": {
   "codemirror_mode": {
    "name": "ipython",
    "version": 3
   },
   "file_extension": ".py",
   "mimetype": "text/x-python",
   "name": "python",
   "nbconvert_exporter": "python",
   "pygments_lexer": "ipython3",
   "version": "3.11.8"
  }
 },
 "nbformat": 4,
 "nbformat_minor": 2
}

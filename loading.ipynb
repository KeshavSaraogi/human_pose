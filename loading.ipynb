{
 "cells": [
  {
   "cell_type": "code",
   "execution_count": null,
   "metadata": {},
   "outputs": [],
   "source": [
    "import numpy as np\n",
    "import cv2\n",
    "import matplotlib.pyplot as plt\n",
    "import os\n",
    "import scipy.io\n"
   ]
  },
  {
   "cell_type": "code",
   "execution_count": null,
   "metadata": {},
   "outputs": [],
   "source": [
    "# File paths\n",
    "mat_file_path = \"/Users/keshavsaraogi/data/pose/joints.mat\"\n",
    "image_folder = \"/Users/keshavsaraogi/data/pose/images/\""
   ]
  },
  {
   "cell_type": "code",
   "execution_count": null,
   "metadata": {},
   "outputs": [],
   "source": [
    "# Load joint data from joints.mat\n",
    "data = scipy.io.loadmat(mat_file_path)\n",
    "joints = data[\"joints\"]  # Shape: (3, 14, 2000) -> (x, y, visibility)\n",
    "num_images = joints.shape[2]"
   ]
  },
  {
   "cell_type": "code",
   "execution_count": null,
   "metadata": {},
   "outputs": [],
   "source": [
    "# Define joint names\n",
    "joint_names = [\n",
    "    \"Right ankle\", \"Right knee\", \"Right hip\", \"Left hip\", \"Left knee\", \"Left ankle\",\n",
    "    \"Right wrist\", \"Right elbow\", \"Right shoulder\", \"Left shoulder\", \"Left elbow\", \"Left wrist\",\n",
    "    \"Neck\", \"Head top\"\n",
    "]"
   ]
  },
  {
   "cell_type": "code",
   "execution_count": null,
   "metadata": {},
   "outputs": [],
   "source": [
    "# Function to visualize keypoints on an image\n",
    "def visualize_pose(image_path, joints, img_index):\n",
    "    img = cv2.imread(image_path)\n",
    "    if img is None:\n",
    "        print(f\"Error: Could not load image {image_path}\")\n",
    "        return\n",
    "    \n",
    "    img = cv2.cvtColor(img, cv2.COLOR_BGR2RGB)  # Convert BGR to RGB for correct colors\n",
    "    keypoints = joints[:, :, img_index]  # Get keypoints for the image\n",
    "\n",
    "    plt.figure(figsize=(6, 6))\n",
    "    plt.imshow(img)\n",
    "    \n",
    "    # Plot joints\n",
    "    for i in range(14):\n",
    "        x, y, v = keypoints[:, i]\n",
    "        if v == 1:  # Visible keypoints (red)\n",
    "            plt.scatter(x, y, color=\"red\", marker=\"o\", label=joint_names[i] if i == 0 else \"\")\n",
    "        else:  # Missing keypoints (gray)\n",
    "            plt.scatter(x, y, color=\"gray\", marker=\"x\", alpha=0.5)\n",
    "\n",
    "    plt.title(f\"Pose Visualization for Image {img_index + 1}\")\n",
    "    plt.axis(\"off\")\n",
    "    plt.show()\n"
   ]
  },
  {
   "cell_type": "code",
   "execution_count": null,
   "metadata": {},
   "outputs": [],
   "source": [
    "# Visualize first 5 images (including missing keypoints)\n",
    "for img_index in range(5):  \n",
    "    img_path = os.path.join(image_folder, f\"im{img_index+1:04d}.jpg\")\n",
    "    \n",
    "    if os.path.exists(img_path):\n",
    "        visualize_pose(img_path, joints, img_index)\n",
    "\n",
    "print(\"Displayed first 5 images including missing keypoints.\")"
   ]
  },
  {
   "cell_type": "code",
   "execution_count": null,
   "metadata": {},
   "outputs": [],
   "source": []
  },
  {
   "cell_type": "code",
   "execution_count": null,
   "metadata": {},
   "outputs": [],
   "source": []
  },
  {
   "cell_type": "code",
   "execution_count": null,
   "metadata": {},
   "outputs": [],
   "source": []
  }
 ],
 "metadata": {
  "kernelspec": {
   "display_name": "base",
   "language": "python",
   "name": "python3"
  },
  "language_info": {
   "codemirror_mode": {
    "name": "ipython",
    "version": 3
   },
   "file_extension": ".py",
   "mimetype": "text/x-python",
   "name": "python",
   "nbconvert_exporter": "python",
   "pygments_lexer": "ipython3",
   "version": "3.11.8"
  }
 },
 "nbformat": 4,
 "nbformat_minor": 2
}
